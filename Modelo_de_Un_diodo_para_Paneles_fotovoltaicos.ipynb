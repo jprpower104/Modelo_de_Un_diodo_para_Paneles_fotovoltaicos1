{
  "nbformat": 4,
  "nbformat_minor": 0,
  "metadata": {
    "colab": {
      "name": "Modelo de Un diodo para Paneles fotovoltaicos.ipynb",
      "version": "0.3.2",
      "provenance": [],
      "collapsed_sections": [],
      "include_colab_link": true
    },
    "kernelspec": {
      "name": "python3",
      "display_name": "Python 3"
    }
  },
  "cells": [
    {
      "cell_type": "markdown",
      "metadata": {
        "id": "view-in-github",
        "colab_type": "text"
      },
      "source": [
        "<a href=\"https://colab.research.google.com/github/jprpower104/Modelo_de_Un_diodo_para_Paneles_fotovoltaicos1/blob/master/Modelo_de_Un_diodo_para_Paneles_fotovoltaicos.ipynb\" target=\"_parent\"><img src=\"https://colab.research.google.com/assets/colab-badge.svg\" alt=\"Open In Colab\"/></a>"
      ]
    },
    {
      "metadata": {
        "id": "jX7H1p_09K9d",
        "colab_type": "text"
      },
      "cell_type": "markdown",
      "source": [
        "\n",
        "# Modelo de un Panel FotoVoltaico\n",
        "\n",
        "<img src=\"https://instalacionesyeficienciaenergetica.com/wp-content/uploads/2015/02/17866138_m-700x542.jpg\">\n",
        "\n",
        "Copyright  ® by (Julián Peláez Restrepo, Ph.D.)$~^{TM}$\n",
        "\n"
      ]
    },
    {
      "metadata": {
        "id": "iV1NV0ygCosT",
        "colab_type": "text"
      },
      "cell_type": "markdown",
      "source": [
        "<div style=\"text-align: justify\">El presente texto explica como obtener los parametros del modelo matematico de un panel fotovoltaico basado en el modelo de un diodo. Extrayendo informacion de los Parametros del Datasheet proporcionado por el fabricante del panel, Entonces el Modelo de un diodo en un panel fotovoltaico esta representado por: &nbsp;</div>"
      ]
    },
    {
      "metadata": {
        "id": "voCgg5Vl9Oip",
        "colab_type": "text"
      },
      "cell_type": "markdown",
      "source": [
        "<br> \n",
        "<center> <font size = 10> $I_{pv}=I_{ph} - I_{sat}(e^{\\frac{I_{pv}R_s+V_{pv}}{an_sV_T}}-1)-\\frac{I_{pv}R_s+V_{pv}}{R_P} $</font></center>\n"
      ]
    },
    {
      "metadata": {
        "id": "YOMevxFmCQJc",
        "colab_type": "text"
      },
      "cell_type": "markdown",
      "source": [
        "# Parametros del Datasheet PV de Mitsubishi referencia MLU255HC\n",
        "\n",
        "$P_{peak}~=~255~W$ Potencia Pico\n",
        "\n",
        "$V_{oc}~=~37.8~V$ Corriente de Circuito Abierto\n",
        "\n",
        "$I_{sc}~=~8.89~A$ Corriente de Corto Circuito\n",
        "\n",
        "$V_{mpp}~=~31.2~V$ Voltaje de maximo Punto de Potencia\n",
        "\n",
        "$I_{mpp}~=~8.18~A$ Corriente de maximo Punto de Potencia\n",
        "\n",
        "$\\alpha_v    =  -0.3590000 \\frac{V_{oc}}{100} \\left[ \\frac{\\%}{~^{0}K} \\right] $ coeficiente de temperaturta de $V_{oc}$\n",
        "\n",
        "$\\alpha_i    =   0.0560000\\frac{I_{sc}}{100} \\left[ \\frac{\\%}{~^{0}K} \\right]$  coeficiente de temperatura de $I_{sc}$ \n",
        "\n",
        "$n_s~=~120$ numero de celdas en serie \n",
        "\n",
        "# Varibles fisicas del material (Silicio Monocristalino)\n",
        "\n",
        "$E_{gap}~=~1.794~\\times~10^{-19}~J$ Banda de Energia silicio monocristalino\n",
        "\n",
        "\n",
        "$k~=~1.3806503\\times~10^{-23} ~\\left[ \\frac{J}{~^{0}K} \\right]$ Constante de Boltzman\n",
        "\n",
        "$q~=~1.60217646 \\times 10^{-19}~C$ Carga electron  \n",
        "\n",
        "$T_{stc}~=~ (25+273.15)~(ºK)$ grados Kelvin $stc$=standart test conditions \n",
        "\n",
        "$G_{stc}~=~1000~\\left[ \\frac{W}{m^2} \\right]$ radiacion solar a $stc$.\n",
        "\n",
        "$a$ Factor de idealidad\n",
        "\n",
        "\n"
      ]
    },
    {
      "metadata": {
        "id": "_fGLnVo9WGZQ",
        "colab_type": "code",
        "colab": {}
      },
      "cell_type": "code",
      "source": [
        ""
      ],
      "execution_count": 0,
      "outputs": []
    },
    {
      "metadata": {
        "id": "f5uYvg2mYHML",
        "colab_type": "code",
        "colab": {}
      },
      "cell_type": "code",
      "source": [
        ""
      ],
      "execution_count": 0,
      "outputs": []
    },
    {
      "metadata": {
        "id": "78gzy8qDYHi3",
        "colab_type": "code",
        "colab": {}
      },
      "cell_type": "code",
      "source": [
        ""
      ],
      "execution_count": 0,
      "outputs": []
    },
    {
      "metadata": {
        "id": "XR1d-xEKI2VM",
        "colab_type": "code",
        "outputId": "5f7468dc-058f-4594-b596-e36f5c5f3993",
        "colab": {
          "base_uri": "https://localhost:8080/",
          "height": 579
        }
      },
      "cell_type": "code",
      "source": [
        "from math import exp, expm1\n",
        "from scipy.special import lambertw\n",
        "\n",
        "Ppeak = 255.0000000;\n",
        "Voc   =  37.8000000; \n",
        "Isc   =   8.8900000;\n",
        "Vmpp  =  31.2000000;\n",
        "Impp  =   8.1800000; \n",
        "av    =  -0.3590000*Voc/100; \n",
        "ai    =   0.05\n",
        "\n",
        "\n",
        "# Another Values",
        "\n",
        "\n",
        "q = 1.60217646e-19; # C Couloumbs",
        "k = 1.3806503e-23   # J/ºK Joules/Kelvin",
        "Tstc = 25 + 273.15;    # ºK Kelvin",
        "Vt = k*Tstc/q;      # Voltaje Termico V Voltios",
        "ns = 120; # numero de celdas en serie",
        "Egap = 1.794e-19; # J Joulios Banda valencia del silicio",  
        "\n",
        "\n",
        "a=(av-Voc/Tstc)/( ns*Vt*( ai/Isc-3/Tstc-Egap/(k*Tstc**2) ) );\n",
        "Isat=Isc*exp( -Voc/( a*ns*Vt ) );\n",
        "\n",
        "print(\"\\n\\n\");\n",
        "print(\"El factor de idealidad del Diodo es a = \",a);\n",
        "print(\"La  corriente  de saturacion  es Isat = \",Isat);\n",
        "\n",
        "sigma=lambertw( (Vmpp*(2*Impp-Isc-Isat )/(a*ns*Vt*Isat))*exp( Vmpp*( Vmpp/(a*ns*Vt)**2 - 2/(a*ns*Vt) ) ) );\n",
        "x=sigma + 2*Vmpp/(a*ns*Vt) - (Vmpp/(a*ns*Vt))**2;\n",
        "Rs= (x.real*a*ns*Vt - Vmpp )/Impp;\n",
        "Rp=x.real*a*ns*Vt/( Isc - Impp - Isat*(exp(x.real) -1) );\n",
        "\n",
        "print(\"La resistencia serie del panel  es Rs = \",Rs);\n",
        "print(\"La resistencia shunt del panel  es Rp = \",Rp);\n",
        "print(\"\\n\\n\");\n",
        "Vtd=a*ns*Vt;\n",
        "\n",
        "import matplotlib.pyplot as plt\n",
        "import numpy as np\n",
        "\n",
        "Ipvm =[];\n",
        "Ipvmr =[];\n",
        "Vpv=(np.arange(0.0, Voc, 0.1));\n",
        "\n",
        "for i in Vpv: \n",
        "    Ipvm.append(-(lambertw(Isat*Rp*Rs*exp((Isc*Rs+Isat*Rs+i)*Rp/((Rp+Rs)*Vtd))/((Rp+Rs)*Vtd))*Vtd*Rp+lambertw(Isat*Rp*Rs*exp((Isc*Rs+Isat*Rs+i)*Rp/((Rp+Rs)*Vtd))/((Rp+Rs)*Vtd))*Vtd*Rs-Isc*Rp*Rs-Isat*Rp*Rs+i*Rs)/((Rp+Rs)*Rs));\n",
        "\n",
        "\n",
        "for j in Ipvm:\n",
        "    Ipvmr.append(j.real);\n",
        "\n",
        "\n",
        "plt.title(r'$I_{pv}=I_{ph} - I_{sat}(e^{\\frac{I_{pv}R_s+V_{pv}}{an_sV_T}}-1)-\\frac{I_{pv}R_s+V_{pv}}{R_P}$',fontsize=24);\n",
        "plt.xlabel(r'$V_{pv}(R_p,R_s,a,I_{sat},I_{ph})$',fontsize=15);\n",
        "plt.ylabel(r'$P_{pv}(R_p,R_s,a,I_{sat},I_{ph})$',fontsize=15);\n",
        "plt.plot(Vpv,Vpv*Ipvmr);\n",
        "plt.show();"
      ],
      "execution_count": 0,
      "outputs": [
        {
          "output_type": "stream",
          "text": [
            "\n",
            "\n",
            "\n",
            "El factor de idealidad del Diodo es a =  0.5468803051543754\n",
            "La  corriente  de saturacion  es Isat =  1.6315150817201502e-09\n",
            "La resistencia serie del panel  es Rs =  0.1803987818165787\n",
            "La resistencia shunt del panel  es Rp =  114.8941527802248\n",
            "\n",
            "\n",
            "\n"
          ],
          "name": "stdout"
        },
        {
          "output_type": "display_data",
          "data": {
            "image/png": "[encoded data removed]",
            "text/plain": [
              "<Figure size 576x396 with 1 Axes>"
            ]
          },
          "metadata": {
            "tags": []
          }
        }
      ]
    }
  ]
}
